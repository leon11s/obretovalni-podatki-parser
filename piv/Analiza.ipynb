{
 "cells": [
  {
   "cell_type": "markdown",
   "id": "53db615a",
   "metadata": {},
   "source": [
    "# Prvi del"
   ]
  },
  {
   "cell_type": "markdown",
   "id": "16255d86",
   "metadata": {},
   "source": [
    "V priponki prilagam .csv datoteko, v kateri je precej stolpcev. V neki točki se je v bazi spremenila nomenklatura vrednosti, in sicer je sprememba v stilu 'V1h1' in V1h01', za vse oznake do vključno 9.\n",
    "\n",
    "Logično, se do neke točke zapisujejo vrednosti v eno, nato v drugo spremenljivko, posledično je vedno ena izmed spremenljivk NaN.\n",
    "Rad bi združil celotno tabelo v eno obliko, na način, da se veljavne vrednosti iz stolpcev V1hX prepišejo na neveljavne vrednosti stolpcev V1h0X.\n",
    "\n",
    "Sedaj sem iz tabele izvlekel samo te stolpce, izvedel update in po združevanju vpisal nazaj v prvi dataframe:\n",
    "\n",
    "Ali je morda mogoče omenjeno narediti hitreje, z manj vrsticami torej."
   ]
  },
  {
   "cell_type": "code",
   "execution_count": 23,
   "id": "1fe0c84c",
   "metadata": {},
   "outputs": [],
   "source": [
    "import pandas as pd\n",
    "import numpy as np"
   ]
  },
  {
   "cell_type": "code",
   "execution_count": 24,
   "id": "9e6331bf",
   "metadata": {},
   "outputs": [],
   "source": [
    "piv = pd.read_csv(\"../data/test_piv.csv\", index_col=0)"
   ]
  },
  {
   "cell_type": "code",
   "execution_count": 25,
   "id": "47822cb6",
   "metadata": {},
   "outputs": [
    {
     "data": {
      "text/html": [
       "<div>\n",
       "<style scoped>\n",
       "    .dataframe tbody tr th:only-of-type {\n",
       "        vertical-align: middle;\n",
       "    }\n",
       "\n",
       "    .dataframe tbody tr th {\n",
       "        vertical-align: top;\n",
       "    }\n",
       "\n",
       "    .dataframe thead th {\n",
       "        text-align: right;\n",
       "    }\n",
       "</style>\n",
       "<table border=\"1\" class=\"dataframe\">\n",
       "  <thead>\n",
       "    <tr style=\"text-align: right;\">\n",
       "      <th></th>\n",
       "      <th>Timestamp</th>\n",
       "      <th>MrpIdentification</th>\n",
       "      <th>U1h01</th>\n",
       "      <th>U1h02</th>\n",
       "      <th>U1h03</th>\n",
       "      <th>U1h04</th>\n",
       "      <th>U1h05</th>\n",
       "      <th>U1h06</th>\n",
       "      <th>U1h07</th>\n",
       "      <th>U1h08</th>\n",
       "      <th>...</th>\n",
       "      <th>U1h23</th>\n",
       "      <th>U1h24</th>\n",
       "      <th>U1h25</th>\n",
       "      <th>U1h3</th>\n",
       "      <th>U1h4</th>\n",
       "      <th>U1h5</th>\n",
       "      <th>U1h6</th>\n",
       "      <th>U1h7</th>\n",
       "      <th>U1h8</th>\n",
       "      <th>U1h9</th>\n",
       "    </tr>\n",
       "  </thead>\n",
       "  <tbody>\n",
       "    <tr>\n",
       "      <th>0</th>\n",
       "      <td>2018-01-01 00:00:00</td>\n",
       "      <td>RTP S2</td>\n",
       "      <td>69021.91</td>\n",
       "      <td>30.21</td>\n",
       "      <td>204.77</td>\n",
       "      <td>10.07</td>\n",
       "      <td>83.92</td>\n",
       "      <td>0.0</td>\n",
       "      <td>302.12</td>\n",
       "      <td>3.36</td>\n",
       "      <td>...</td>\n",
       "      <td>117.49</td>\n",
       "      <td>0.0</td>\n",
       "      <td>97.35</td>\n",
       "      <td>NaN</td>\n",
       "      <td>NaN</td>\n",
       "      <td>NaN</td>\n",
       "      <td>NaN</td>\n",
       "      <td>NaN</td>\n",
       "      <td>NaN</td>\n",
       "      <td>NaN</td>\n",
       "    </tr>\n",
       "    <tr>\n",
       "      <th>1</th>\n",
       "      <td>2018-01-01 00:10:00</td>\n",
       "      <td>RTP S2</td>\n",
       "      <td>68807.07</td>\n",
       "      <td>30.21</td>\n",
       "      <td>208.13</td>\n",
       "      <td>10.07</td>\n",
       "      <td>70.50</td>\n",
       "      <td>0.0</td>\n",
       "      <td>298.77</td>\n",
       "      <td>3.36</td>\n",
       "      <td>...</td>\n",
       "      <td>134.28</td>\n",
       "      <td>0.0</td>\n",
       "      <td>97.35</td>\n",
       "      <td>NaN</td>\n",
       "      <td>NaN</td>\n",
       "      <td>NaN</td>\n",
       "      <td>NaN</td>\n",
       "      <td>NaN</td>\n",
       "      <td>NaN</td>\n",
       "      <td>NaN</td>\n",
       "    </tr>\n",
       "    <tr>\n",
       "      <th>2</th>\n",
       "      <td>2018-01-01 00:20:00</td>\n",
       "      <td>RTP S2</td>\n",
       "      <td>68692.93</td>\n",
       "      <td>30.21</td>\n",
       "      <td>204.77</td>\n",
       "      <td>10.07</td>\n",
       "      <td>83.92</td>\n",
       "      <td>0.0</td>\n",
       "      <td>302.12</td>\n",
       "      <td>6.71</td>\n",
       "      <td>...</td>\n",
       "      <td>127.56</td>\n",
       "      <td>0.0</td>\n",
       "      <td>97.35</td>\n",
       "      <td>NaN</td>\n",
       "      <td>NaN</td>\n",
       "      <td>NaN</td>\n",
       "      <td>NaN</td>\n",
       "      <td>NaN</td>\n",
       "      <td>NaN</td>\n",
       "      <td>NaN</td>\n",
       "    </tr>\n",
       "  </tbody>\n",
       "</table>\n",
       "<p>3 rows × 36 columns</p>\n",
       "</div>"
      ],
      "text/plain": [
       "             Timestamp MrpIdentification     U1h01  U1h02   U1h03  U1h04  \\\n",
       "0  2018-01-01 00:00:00            RTP S2  69021.91  30.21  204.77  10.07   \n",
       "1  2018-01-01 00:10:00            RTP S2  68807.07  30.21  208.13  10.07   \n",
       "2  2018-01-01 00:20:00            RTP S2  68692.93  30.21  204.77  10.07   \n",
       "\n",
       "   U1h05  U1h06   U1h07  U1h08  ...   U1h23  U1h24  U1h25  U1h3  U1h4  U1h5  \\\n",
       "0  83.92    0.0  302.12   3.36  ...  117.49    0.0  97.35   NaN   NaN   NaN   \n",
       "1  70.50    0.0  298.77   3.36  ...  134.28    0.0  97.35   NaN   NaN   NaN   \n",
       "2  83.92    0.0  302.12   6.71  ...  127.56    0.0  97.35   NaN   NaN   NaN   \n",
       "\n",
       "   U1h6  U1h7  U1h8  U1h9  \n",
       "0   NaN   NaN   NaN   NaN  \n",
       "1   NaN   NaN   NaN   NaN  \n",
       "2   NaN   NaN   NaN   NaN  \n",
       "\n",
       "[3 rows x 36 columns]"
      ]
     },
     "execution_count": 25,
     "metadata": {},
     "output_type": "execute_result"
    }
   ],
   "source": [
    "piv.head(3)"
   ]
  },
  {
   "cell_type": "code",
   "execution_count": 26,
   "id": "35f4045a",
   "metadata": {},
   "outputs": [
    {
     "name": "stdout",
     "output_type": "stream",
     "text": [
      "Zero padded columns: ['U1h01', 'U1h02', 'U1h03', 'U1h04', 'U1h05', 'U1h06', 'U1h07', 'U1h08', 'U1h09']\n",
      "Following columns will be merged with zero padded columns: ['U1h1', 'U1h2', 'U1h3', 'U1h4', 'U1h5', 'U1h6', 'U1h7', 'U1h8', 'U1h9']\n"
     ]
    }
   ],
   "source": [
    "import re\n",
    "\n",
    "zero_padded_column_names = [name for name in piv.columns if re.search(r\"U1h0\\d+\", name)]\n",
    "valid_values_column_names = [name.replace(\"0\", \"\") for name in zero_padded_column_names]\n",
    "\n",
    "print(f\"Zero padded columns: {zero_padded_column_names}\")\n",
    "print(f\"Following columns will be merged with zero padded columns: {valid_values_column_names}\")"
   ]
  },
  {
   "cell_type": "code",
   "execution_count": 27,
   "id": "662f1707",
   "metadata": {},
   "outputs": [
    {
     "data": {
      "text/plain": [
       "{'U1h1': 'U1h01',\n",
       " 'U1h2': 'U1h02',\n",
       " 'U1h3': 'U1h03',\n",
       " 'U1h4': 'U1h04',\n",
       " 'U1h5': 'U1h05',\n",
       " 'U1h6': 'U1h06',\n",
       " 'U1h7': 'U1h07',\n",
       " 'U1h8': 'U1h08',\n",
       " 'U1h9': 'U1h09'}"
      ]
     },
     "execution_count": 27,
     "metadata": {},
     "output_type": "execute_result"
    }
   ],
   "source": [
    "column_mapping = {old_col: new_col for (old_col, new_col) in zip(valid_values_column_names, zero_padded_column_names)}\n",
    "column_mapping"
   ]
  },
  {
   "cell_type": "code",
   "execution_count": 10,
   "id": "bc707f29",
   "metadata": {},
   "outputs": [
    {
     "name": "stdout",
     "output_type": "stream",
     "text": [
      "Index(['U1h01', 'U1h02', 'U1h03', 'U1h04', 'U1h05', 'U1h06', 'U1h07', 'U1h08',\n",
      "       'U1h09'],\n",
      "      dtype='object')\n"
     ]
    }
   ],
   "source": [
    "test_piv_x = piv.loc[:,valid_values_column_names].copy()\n",
    "test_piv_x.rename(columns=column_mapping, inplace=True)\n",
    "print(test_piv_x.columns)"
   ]
  },
  {
   "cell_type": "code",
   "execution_count": 28,
   "id": "4f93482d",
   "metadata": {},
   "outputs": [],
   "source": [
    "piv.update(test_piv_x, overwrite=False, errors=\"raise\")\n",
    "piv.drop(valid_values_column_names, axis=\"columns\", inplace=True)"
   ]
  },
  {
   "cell_type": "code",
   "execution_count": 29,
   "id": "a3fb90bf",
   "metadata": {},
   "outputs": [
    {
     "data": {
      "text/html": [
       "<div>\n",
       "<style scoped>\n",
       "    .dataframe tbody tr th:only-of-type {\n",
       "        vertical-align: middle;\n",
       "    }\n",
       "\n",
       "    .dataframe tbody tr th {\n",
       "        vertical-align: top;\n",
       "    }\n",
       "\n",
       "    .dataframe thead th {\n",
       "        text-align: right;\n",
       "    }\n",
       "</style>\n",
       "<table border=\"1\" class=\"dataframe\">\n",
       "  <thead>\n",
       "    <tr style=\"text-align: right;\">\n",
       "      <th></th>\n",
       "      <th>Timestamp</th>\n",
       "      <th>MrpIdentification</th>\n",
       "      <th>U1h01</th>\n",
       "      <th>U1h02</th>\n",
       "      <th>U1h03</th>\n",
       "      <th>U1h04</th>\n",
       "      <th>U1h05</th>\n",
       "      <th>U1h06</th>\n",
       "      <th>U1h07</th>\n",
       "      <th>U1h08</th>\n",
       "      <th>...</th>\n",
       "      <th>U1h16</th>\n",
       "      <th>U1h17</th>\n",
       "      <th>U1h18</th>\n",
       "      <th>U1h19</th>\n",
       "      <th>U1h20</th>\n",
       "      <th>U1h21</th>\n",
       "      <th>U1h22</th>\n",
       "      <th>U1h23</th>\n",
       "      <th>U1h24</th>\n",
       "      <th>U1h25</th>\n",
       "    </tr>\n",
       "  </thead>\n",
       "  <tbody>\n",
       "    <tr>\n",
       "      <th>0</th>\n",
       "      <td>2018-01-01 00:00:00</td>\n",
       "      <td>RTP S2</td>\n",
       "      <td>69021.91</td>\n",
       "      <td>30.21</td>\n",
       "      <td>204.77</td>\n",
       "      <td>10.07</td>\n",
       "      <td>83.92</td>\n",
       "      <td>0.0</td>\n",
       "      <td>302.12</td>\n",
       "      <td>3.36</td>\n",
       "      <td>...</td>\n",
       "      <td>3.36</td>\n",
       "      <td>26.86</td>\n",
       "      <td>0.0</td>\n",
       "      <td>3.36</td>\n",
       "      <td>0.0</td>\n",
       "      <td>3.36</td>\n",
       "      <td>3.36</td>\n",
       "      <td>117.49</td>\n",
       "      <td>0.0</td>\n",
       "      <td>97.35</td>\n",
       "    </tr>\n",
       "    <tr>\n",
       "      <th>1</th>\n",
       "      <td>2018-01-01 00:10:00</td>\n",
       "      <td>RTP S2</td>\n",
       "      <td>68807.07</td>\n",
       "      <td>30.21</td>\n",
       "      <td>208.13</td>\n",
       "      <td>10.07</td>\n",
       "      <td>70.50</td>\n",
       "      <td>0.0</td>\n",
       "      <td>298.77</td>\n",
       "      <td>3.36</td>\n",
       "      <td>...</td>\n",
       "      <td>3.36</td>\n",
       "      <td>20.14</td>\n",
       "      <td>0.0</td>\n",
       "      <td>10.07</td>\n",
       "      <td>0.0</td>\n",
       "      <td>3.36</td>\n",
       "      <td>3.36</td>\n",
       "      <td>134.28</td>\n",
       "      <td>0.0</td>\n",
       "      <td>97.35</td>\n",
       "    </tr>\n",
       "  </tbody>\n",
       "</table>\n",
       "<p>2 rows × 27 columns</p>\n",
       "</div>"
      ],
      "text/plain": [
       "             Timestamp MrpIdentification     U1h01  U1h02   U1h03  U1h04  \\\n",
       "0  2018-01-01 00:00:00            RTP S2  69021.91  30.21  204.77  10.07   \n",
       "1  2018-01-01 00:10:00            RTP S2  68807.07  30.21  208.13  10.07   \n",
       "\n",
       "   U1h05  U1h06   U1h07  U1h08  ...  U1h16  U1h17  U1h18  U1h19  U1h20  U1h21  \\\n",
       "0  83.92    0.0  302.12   3.36  ...   3.36  26.86    0.0   3.36    0.0   3.36   \n",
       "1  70.50    0.0  298.77   3.36  ...   3.36  20.14    0.0  10.07    0.0   3.36   \n",
       "\n",
       "   U1h22   U1h23  U1h24  U1h25  \n",
       "0   3.36  117.49    0.0  97.35  \n",
       "1   3.36  134.28    0.0  97.35  \n",
       "\n",
       "[2 rows x 27 columns]"
      ]
     },
     "execution_count": 29,
     "metadata": {},
     "output_type": "execute_result"
    }
   ],
   "source": [
    "piv.head(2)"
   ]
  },
  {
   "cell_type": "code",
   "execution_count": 30,
   "id": "e86c1cf3",
   "metadata": {},
   "outputs": [
    {
     "data": {
      "text/html": [
       "<div>\n",
       "<style scoped>\n",
       "    .dataframe tbody tr th:only-of-type {\n",
       "        vertical-align: middle;\n",
       "    }\n",
       "\n",
       "    .dataframe tbody tr th {\n",
       "        vertical-align: top;\n",
       "    }\n",
       "\n",
       "    .dataframe thead th {\n",
       "        text-align: right;\n",
       "    }\n",
       "</style>\n",
       "<table border=\"1\" class=\"dataframe\">\n",
       "  <thead>\n",
       "    <tr style=\"text-align: right;\">\n",
       "      <th></th>\n",
       "      <th>Timestamp</th>\n",
       "      <th>MrpIdentification</th>\n",
       "      <th>U1h01</th>\n",
       "      <th>U1h02</th>\n",
       "      <th>U1h03</th>\n",
       "      <th>U1h04</th>\n",
       "      <th>U1h05</th>\n",
       "      <th>U1h06</th>\n",
       "      <th>U1h07</th>\n",
       "      <th>U1h08</th>\n",
       "      <th>...</th>\n",
       "      <th>U1h16</th>\n",
       "      <th>U1h17</th>\n",
       "      <th>U1h18</th>\n",
       "      <th>U1h19</th>\n",
       "      <th>U1h20</th>\n",
       "      <th>U1h21</th>\n",
       "      <th>U1h22</th>\n",
       "      <th>U1h23</th>\n",
       "      <th>U1h24</th>\n",
       "      <th>U1h25</th>\n",
       "    </tr>\n",
       "  </thead>\n",
       "  <tbody>\n",
       "    <tr>\n",
       "      <th>210382</th>\n",
       "      <td>2021-12-31 23:40:00</td>\n",
       "      <td>RTP S2</td>\n",
       "      <td>68988.34</td>\n",
       "      <td>0.0</td>\n",
       "      <td>90.64</td>\n",
       "      <td>3.36</td>\n",
       "      <td>466.61</td>\n",
       "      <td>0.0</td>\n",
       "      <td>325.62</td>\n",
       "      <td>3.36</td>\n",
       "      <td>...</td>\n",
       "      <td>0.0</td>\n",
       "      <td>57.07</td>\n",
       "      <td>0.0</td>\n",
       "      <td>13.43</td>\n",
       "      <td>0.0</td>\n",
       "      <td>3.36</td>\n",
       "      <td>0.0</td>\n",
       "      <td>13.43</td>\n",
       "      <td>3.36</td>\n",
       "      <td>20.14</td>\n",
       "    </tr>\n",
       "    <tr>\n",
       "      <th>210383</th>\n",
       "      <td>2021-12-31 23:50:00</td>\n",
       "      <td>RTP S2</td>\n",
       "      <td>68797.00</td>\n",
       "      <td>0.0</td>\n",
       "      <td>90.64</td>\n",
       "      <td>3.36</td>\n",
       "      <td>453.19</td>\n",
       "      <td>0.0</td>\n",
       "      <td>318.91</td>\n",
       "      <td>3.36</td>\n",
       "      <td>...</td>\n",
       "      <td>0.0</td>\n",
       "      <td>60.42</td>\n",
       "      <td>0.0</td>\n",
       "      <td>10.07</td>\n",
       "      <td>0.0</td>\n",
       "      <td>3.36</td>\n",
       "      <td>0.0</td>\n",
       "      <td>16.78</td>\n",
       "      <td>3.36</td>\n",
       "      <td>13.43</td>\n",
       "    </tr>\n",
       "  </tbody>\n",
       "</table>\n",
       "<p>2 rows × 27 columns</p>\n",
       "</div>"
      ],
      "text/plain": [
       "                  Timestamp MrpIdentification     U1h01  U1h02  U1h03  U1h04  \\\n",
       "210382  2021-12-31 23:40:00            RTP S2  68988.34    0.0  90.64   3.36   \n",
       "210383  2021-12-31 23:50:00            RTP S2  68797.00    0.0  90.64   3.36   \n",
       "\n",
       "         U1h05  U1h06   U1h07  U1h08  ...  U1h16  U1h17  U1h18  U1h19  U1h20  \\\n",
       "210382  466.61    0.0  325.62   3.36  ...    0.0  57.07    0.0  13.43    0.0   \n",
       "210383  453.19    0.0  318.91   3.36  ...    0.0  60.42    0.0  10.07    0.0   \n",
       "\n",
       "        U1h21  U1h22  U1h23  U1h24  U1h25  \n",
       "210382   3.36    0.0  13.43   3.36  20.14  \n",
       "210383   3.36    0.0  16.78   3.36  13.43  \n",
       "\n",
       "[2 rows x 27 columns]"
      ]
     },
     "execution_count": 30,
     "metadata": {},
     "output_type": "execute_result"
    }
   ],
   "source": [
    "piv.tail(2)"
   ]
  },
  {
   "cell_type": "markdown",
   "id": "2161e36d",
   "metadata": {},
   "source": [
    "Ali je možno spodnje izvesti z nekim dinamičnim ukazom? Trenutno sem hardcodal dict za preimenovanje, vendar bi bilo to v primeru večjega nabora spremenljivk nekoliko neugodno:\n",
    "\n",
    "Izvesti celoten nabor zeropadded afer 'h':\n",
    "\n",
    "    ['U1h1',\n",
    "    'U1h10',\n",
    "    'U1h11',\n",
    "    'U1h12',\n",
    "    'U1h13',\n",
    "    'U1h14',\n",
    "    'U1h15',\n",
    "    'U1h16',\n",
    "    'U1h17',\n",
    "    'U1h18',\n",
    "    'U1h19',\n",
    "    'U1h2',\n",
    "    'U1h20',\n",
    "    'U1h21',\n",
    "    'U1h22',\n",
    "    'U1h23',\n",
    "    'U1h24',\n",
    "    'U1h25',\n",
    "    'U1h3',\n",
    "    'U1h4',\n",
    "    'U1h5',\n",
    "    'U1h6',\n",
    "    'U1h7',\n",
    "    'U1h8',\n",
    "    'U1h9']\n"
   ]
  },
  {
   "cell_type": "code",
   "execution_count": null,
   "id": "e157c21a",
   "metadata": {},
   "outputs": [],
   "source": [
    "# več zgoraj, s pomočjo regexa"
   ]
  },
  {
   "cell_type": "markdown",
   "id": "02ef6a73",
   "metadata": {},
   "source": [
    "## Matematične operacije NotNull"
   ]
  },
  {
   "cell_type": "code",
   "execution_count": 31,
   "id": "f78fe728",
   "metadata": {},
   "outputs": [],
   "source": [
    "a = pd.DataFrame({\"a\": [1,2,3, np.nan, 4.5], \"b\": [np.nan, np.nan, 5,6,7.6]})"
   ]
  },
  {
   "cell_type": "code",
   "execution_count": 32,
   "id": "add05435",
   "metadata": {},
   "outputs": [
    {
     "data": {
      "text/html": [
       "<div>\n",
       "<style scoped>\n",
       "    .dataframe tbody tr th:only-of-type {\n",
       "        vertical-align: middle;\n",
       "    }\n",
       "\n",
       "    .dataframe tbody tr th {\n",
       "        vertical-align: top;\n",
       "    }\n",
       "\n",
       "    .dataframe thead th {\n",
       "        text-align: right;\n",
       "    }\n",
       "</style>\n",
       "<table border=\"1\" class=\"dataframe\">\n",
       "  <thead>\n",
       "    <tr style=\"text-align: right;\">\n",
       "      <th></th>\n",
       "      <th>a</th>\n",
       "      <th>b</th>\n",
       "    </tr>\n",
       "  </thead>\n",
       "  <tbody>\n",
       "    <tr>\n",
       "      <th>0</th>\n",
       "      <td>1.0</td>\n",
       "      <td>NaN</td>\n",
       "    </tr>\n",
       "    <tr>\n",
       "      <th>1</th>\n",
       "      <td>2.0</td>\n",
       "      <td>NaN</td>\n",
       "    </tr>\n",
       "    <tr>\n",
       "      <th>2</th>\n",
       "      <td>3.0</td>\n",
       "      <td>5.0</td>\n",
       "    </tr>\n",
       "    <tr>\n",
       "      <th>3</th>\n",
       "      <td>NaN</td>\n",
       "      <td>6.0</td>\n",
       "    </tr>\n",
       "    <tr>\n",
       "      <th>4</th>\n",
       "      <td>4.5</td>\n",
       "      <td>7.6</td>\n",
       "    </tr>\n",
       "  </tbody>\n",
       "</table>\n",
       "</div>"
      ],
      "text/plain": [
       "     a    b\n",
       "0  1.0  NaN\n",
       "1  2.0  NaN\n",
       "2  3.0  5.0\n",
       "3  NaN  6.0\n",
       "4  4.5  7.6"
      ]
     },
     "execution_count": 32,
     "metadata": {},
     "output_type": "execute_result"
    }
   ],
   "source": [
    "a"
   ]
  },
  {
   "cell_type": "code",
   "execution_count": 33,
   "id": "3158ceda",
   "metadata": {},
   "outputs": [
    {
     "data": {
      "text/plain": [
       "a    1\n",
       "b    2\n",
       "dtype: int64"
      ]
     },
     "execution_count": 33,
     "metadata": {},
     "output_type": "execute_result"
    }
   ],
   "source": [
    "a.isna().sum()"
   ]
  },
  {
   "cell_type": "code",
   "execution_count": 34,
   "id": "d6af4116",
   "metadata": {},
   "outputs": [
    {
     "data": {
      "text/html": [
       "<div>\n",
       "<style scoped>\n",
       "    .dataframe tbody tr th:only-of-type {\n",
       "        vertical-align: middle;\n",
       "    }\n",
       "\n",
       "    .dataframe tbody tr th {\n",
       "        vertical-align: top;\n",
       "    }\n",
       "\n",
       "    .dataframe thead th {\n",
       "        text-align: right;\n",
       "    }\n",
       "</style>\n",
       "<table border=\"1\" class=\"dataframe\">\n",
       "  <thead>\n",
       "    <tr style=\"text-align: right;\">\n",
       "      <th></th>\n",
       "      <th>a</th>\n",
       "      <th>b</th>\n",
       "    </tr>\n",
       "  </thead>\n",
       "  <tbody>\n",
       "    <tr>\n",
       "      <th>0</th>\n",
       "      <td>0.250</td>\n",
       "      <td>NaN</td>\n",
       "    </tr>\n",
       "    <tr>\n",
       "      <th>1</th>\n",
       "      <td>0.500</td>\n",
       "      <td>NaN</td>\n",
       "    </tr>\n",
       "    <tr>\n",
       "      <th>2</th>\n",
       "      <td>0.750</td>\n",
       "      <td>1.25</td>\n",
       "    </tr>\n",
       "    <tr>\n",
       "      <th>3</th>\n",
       "      <td>NaN</td>\n",
       "      <td>1.50</td>\n",
       "    </tr>\n",
       "    <tr>\n",
       "      <th>4</th>\n",
       "      <td>1.125</td>\n",
       "      <td>1.90</td>\n",
       "    </tr>\n",
       "  </tbody>\n",
       "</table>\n",
       "</div>"
      ],
      "text/plain": [
       "       a     b\n",
       "0  0.250   NaN\n",
       "1  0.500   NaN\n",
       "2  0.750  1.25\n",
       "3    NaN  1.50\n",
       "4  1.125  1.90"
      ]
     },
     "execution_count": 34,
     "metadata": {},
     "output_type": "execute_result"
    }
   ],
   "source": [
    "a.div(4, axis=\"rows\")"
   ]
  },
  {
   "cell_type": "code",
   "execution_count": 35,
   "id": "174ec4f4",
   "metadata": {},
   "outputs": [
    {
     "data": {
      "text/html": [
       "<div>\n",
       "<style scoped>\n",
       "    .dataframe tbody tr th:only-of-type {\n",
       "        vertical-align: middle;\n",
       "    }\n",
       "\n",
       "    .dataframe tbody tr th {\n",
       "        vertical-align: top;\n",
       "    }\n",
       "\n",
       "    .dataframe thead th {\n",
       "        text-align: right;\n",
       "    }\n",
       "</style>\n",
       "<table border=\"1\" class=\"dataframe\">\n",
       "  <thead>\n",
       "    <tr style=\"text-align: right;\">\n",
       "      <th></th>\n",
       "      <th>a</th>\n",
       "      <th>b</th>\n",
       "    </tr>\n",
       "  </thead>\n",
       "  <tbody>\n",
       "    <tr>\n",
       "      <th>0</th>\n",
       "      <td>0.062500</td>\n",
       "      <td>NaN</td>\n",
       "    </tr>\n",
       "    <tr>\n",
       "      <th>1</th>\n",
       "      <td>0.250000</td>\n",
       "      <td>NaN</td>\n",
       "    </tr>\n",
       "    <tr>\n",
       "      <th>2</th>\n",
       "      <td>0.562500</td>\n",
       "      <td>1.5625</td>\n",
       "    </tr>\n",
       "    <tr>\n",
       "      <th>3</th>\n",
       "      <td>NaN</td>\n",
       "      <td>2.2500</td>\n",
       "    </tr>\n",
       "    <tr>\n",
       "      <th>4</th>\n",
       "      <td>1.265625</td>\n",
       "      <td>3.6100</td>\n",
       "    </tr>\n",
       "  </tbody>\n",
       "</table>\n",
       "</div>"
      ],
      "text/plain": [
       "          a       b\n",
       "0  0.062500     NaN\n",
       "1  0.250000     NaN\n",
       "2  0.562500  1.5625\n",
       "3       NaN  2.2500\n",
       "4  1.265625  3.6100"
      ]
     },
     "execution_count": 35,
     "metadata": {},
     "output_type": "execute_result"
    }
   ],
   "source": [
    "a.div(4, axis=\"rows\").apply(np.square)"
   ]
  },
  {
   "cell_type": "code",
   "execution_count": 37,
   "id": "7de70464",
   "metadata": {},
   "outputs": [
    {
     "data": {
      "text/plain": [
       "0    0.062500\n",
       "1    0.250000\n",
       "2    2.125000\n",
       "3    2.250000\n",
       "4    4.875625\n",
       "dtype: float64"
      ]
     },
     "execution_count": 37,
     "metadata": {},
     "output_type": "execute_result"
    }
   ],
   "source": [
    "a.div(4, axis=\"rows\").apply(np.square).apply(np.sum, axis=\"columns\")"
   ]
  },
  {
   "cell_type": "code",
   "execution_count": 38,
   "id": "fb42d1c7",
   "metadata": {},
   "outputs": [
    {
     "data": {
      "text/plain": [
       "0     25.000000\n",
       "1     50.000000\n",
       "2    145.773797\n",
       "3    150.000000\n",
       "4    220.808175\n",
       "dtype: float64"
      ]
     },
     "execution_count": 38,
     "metadata": {},
     "output_type": "execute_result"
    }
   ],
   "source": [
    "a.div(4, axis=\"rows\").apply(np.square).apply(np.sum, axis=\"columns\").apply(np.sqrt)*100"
   ]
  },
  {
   "cell_type": "code",
   "execution_count": 40,
   "id": "e494fcf5",
   "metadata": {},
   "outputs": [
    {
     "data": {
      "text/plain": [
       "0     25.000000\n",
       "1     50.000000\n",
       "2    145.773797\n",
       "3    150.000000\n",
       "4    220.808175\n",
       "dtype: float64"
      ]
     },
     "execution_count": 40,
     "metadata": {},
     "output_type": "execute_result"
    }
   ],
   "source": [
    "# boljši način\n",
    "# pow - but with support to substitute a fill_value for missing data in one of the inputs\n",
    "a.div(4, axis=\"rows\").pow(2).sum(axis=\"columns\").pow(1./2)*100"
   ]
  },
  {
   "cell_type": "code",
   "execution_count": 41,
   "id": "0aeb67c8",
   "metadata": {},
   "outputs": [
    {
     "data": {
      "text/plain": [
       "0           NaN\n",
       "1           NaN\n",
       "2    145.773797\n",
       "3           NaN\n",
       "4    220.808175\n",
       "dtype: float64"
      ]
     },
     "execution_count": 41,
     "metadata": {},
     "output_type": "execute_result"
    }
   ],
   "source": [
    "a.div(4, axis=\"rows\").pow(2).sum(axis=\"columns\", skipna=False).pow(1./2)*100"
   ]
  },
  {
   "cell_type": "markdown",
   "id": "1e97c538",
   "metadata": {},
   "source": [
    "### Time diff"
   ]
  },
  {
   "cell_type": "code",
   "execution_count": 42,
   "id": "850547f9",
   "metadata": {},
   "outputs": [
    {
     "data": {
      "text/html": [
       "<div>\n",
       "<style scoped>\n",
       "    .dataframe tbody tr th:only-of-type {\n",
       "        vertical-align: middle;\n",
       "    }\n",
       "\n",
       "    .dataframe tbody tr th {\n",
       "        vertical-align: top;\n",
       "    }\n",
       "\n",
       "    .dataframe thead th {\n",
       "        text-align: right;\n",
       "    }\n",
       "</style>\n",
       "<table border=\"1\" class=\"dataframe\">\n",
       "  <thead>\n",
       "    <tr style=\"text-align: right;\">\n",
       "      <th></th>\n",
       "      <th>a</th>\n",
       "      <th>b</th>\n",
       "    </tr>\n",
       "  </thead>\n",
       "  <tbody>\n",
       "    <tr>\n",
       "      <th>0</th>\n",
       "      <td>1</td>\n",
       "      <td>2</td>\n",
       "    </tr>\n",
       "    <tr>\n",
       "      <th>1</th>\n",
       "      <td>2</td>\n",
       "      <td>4</td>\n",
       "    </tr>\n",
       "    <tr>\n",
       "      <th>2</th>\n",
       "      <td>3</td>\n",
       "      <td>6</td>\n",
       "    </tr>\n",
       "    <tr>\n",
       "      <th>3</th>\n",
       "      <td>4</td>\n",
       "      <td>8</td>\n",
       "    </tr>\n",
       "    <tr>\n",
       "      <th>4</th>\n",
       "      <td>5</td>\n",
       "      <td>10</td>\n",
       "    </tr>\n",
       "  </tbody>\n",
       "</table>\n",
       "</div>"
      ],
      "text/plain": [
       "   a   b\n",
       "0  1   2\n",
       "1  2   4\n",
       "2  3   6\n",
       "3  4   8\n",
       "4  5  10"
      ]
     },
     "execution_count": 42,
     "metadata": {},
     "output_type": "execute_result"
    }
   ],
   "source": [
    "a = pd.DataFrame({\"a\": range(1,100_000), \"b\": range(1, 100_000)})\n",
    "a[\"b\"] = a[\"b\"]*2\n",
    "a.head()"
   ]
  },
  {
   "cell_type": "code",
   "execution_count": 43,
   "id": "40582710",
   "metadata": {},
   "outputs": [
    {
     "name": "stdout",
     "output_type": "stream",
     "text": [
      "<class 'pandas.core.frame.DataFrame'>\n",
      "RangeIndex: 99999 entries, 0 to 99998\n",
      "Data columns (total 2 columns):\n",
      " #   Column  Non-Null Count  Dtype\n",
      "---  ------  --------------  -----\n",
      " 0   a       99999 non-null  int64\n",
      " 1   b       99999 non-null  int64\n",
      "dtypes: int64(2)\n",
      "memory usage: 1.5 MB\n"
     ]
    }
   ],
   "source": [
    "a.info()"
   ]
  },
  {
   "cell_type": "code",
   "execution_count": 44,
   "id": "fbf12847",
   "metadata": {},
   "outputs": [
    {
     "name": "stdout",
     "output_type": "stream",
     "text": [
      "7.3 s ± 76 ms per loop (mean ± std. dev. of 7 runs, 1 loop each)\n"
     ]
    }
   ],
   "source": [
    "%%timeit\n",
    "a.div(4, axis=\"rows\").apply(np.square).apply(np.sum, axis=\"columns\").apply(np.sqrt)*100"
   ]
  },
  {
   "cell_type": "code",
   "execution_count": 45,
   "id": "2f0dfac4",
   "metadata": {},
   "outputs": [
    {
     "name": "stdout",
     "output_type": "stream",
     "text": [
      "5.01 ms ± 569 µs per loop (mean ± std. dev. of 7 runs, 100 loops each)\n"
     ]
    }
   ],
   "source": [
    "%%timeit\n",
    "a.div(4, axis=\"rows\").pow(2).sum(axis=\"columns\", skipna=False).pow(1./2)*100"
   ]
  }
 ],
 "metadata": {
  "kernelspec": {
   "display_name": "Python 3 (ipykernel)",
   "language": "python",
   "name": "python3"
  },
  "language_info": {
   "codemirror_mode": {
    "name": "ipython",
    "version": 3
   },
   "file_extension": ".py",
   "mimetype": "text/x-python",
   "name": "python",
   "nbconvert_exporter": "python",
   "pygments_lexer": "ipython3",
   "version": "3.9.2"
  }
 },
 "nbformat": 4,
 "nbformat_minor": 5
}
