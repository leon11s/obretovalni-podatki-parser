{
 "cells": [
  {
   "cell_type": "code",
   "execution_count": 10,
   "id": "8de57265",
   "metadata": {},
   "outputs": [],
   "source": [
    "import pandas as pd\n",
    "from typing import List\n",
    "import re\n",
    "\n"
   ]
  },
  {
   "cell_type": "code",
   "execution_count": 13,
   "id": "61df986f",
   "metadata": {},
   "outputs": [],
   "source": [
    "def read_irn_header_csv(file_path: str) -> List[str]:\n",
    "    RE_IRNS = re.compile(r\"[\\w\\d]+\\sirn\\s=\\s\\d+\")\n",
    "    irns = []\n",
    "    with open(file_path, \"r\") as input_file:\n",
    "        for line in input_file:\n",
    "            if RE_IRNS.search(line):\n",
    "                irns.append(line.strip())\n",
    "            else:\n",
    "                break\n",
    "                \n",
    "    return irns\n"
   ]
  },
  {
   "cell_type": "code",
   "execution_count": 12,
   "id": "587b044d",
   "metadata": {},
   "outputs": [
    {
     "name": "stdout",
     "output_type": "stream",
     "text": [
      "['RTPA110TR411I irn = 112981352', 'RTPA110TR411P irn = 112982352', 'RTPA110TR411Q irn = 112983352', 'RTPA110TR411U irn = 112972352', 'RTPA110TR412I irn = 113163352', 'RTPA110TR412P irn = 113156352', 'RTPA110TR412Q irn = 113320352', 'RTPA110TR412U irn = 112783352', 'RTPA400TR411I irn = 118089352', 'RTPA400TR411P irn = 118095352', 'RTPA400TR411Q irn = 118086352', 'RTPA400TR411U irn = 118090352', 'RTPA400TR412I irn = 118479352', 'RTPA400TR412P irn = 118486352', 'RTPA400TR412Q irn = 118487352', 'RTPA400TR412U irn = 118490352', 'RTPB110TR411I irn = 104620352', 'RTPB110TR411P irn = 104684352', 'RTPB110TR411Q irn = 104674352', 'RTPB110TR411U irn = 104623352', 'RTPB110TR412I irn = 108888352', 'RTPB110TR412P irn = 108917352', 'RTPB110TR412Q irn = 108893352', 'RTPB110TR412U irn = 108887352', 'RTPB400TR411I irn = 103677352', 'RTPB400TR411P irn = 103693352', 'RTPB400TR411Q irn = 103682352', 'RTPB400TR411U irn = 103696352', 'RTPB400TR412I irn = 104015352', 'RTPB400TR412P irn = 104016352', 'RTPB400TR412Q irn = 104012352', 'RTPB400TR412U irn = 104014352']\n",
      "['RTPB400TR411TEMP irn = 2082928352']\n"
     ]
    }
   ],
   "source": [
    "# read irn header\n",
    "h1 = read_irn_header_csv(\"data/davr15m_1.csv\")\n",
    "h2 = read_irn_header(\"data/davr15m_2.csv\")\n",
    "\n",
    "print(h1)\n",
    "print(h2)"
   ]
  },
  {
   "cell_type": "code",
   "execution_count": 21,
   "id": "5aba67d7",
   "metadata": {},
   "outputs": [],
   "source": [
    "headers = {112981352: 'RTPA110TR411I', 112982352: 'RTPA110TR411P', 112983352: 'RTPA110TR411Q', 112972352: 'RTPA110TR411U', 113163352: 'RTPA110TR412I', 113156352: 'RTPA110TR412P', 113320352: 'RTPA110TR412Q', 112783352: 'RTPA110TR412U', 118089352: 'RTPA400TR411I', 118095352: 'RTPA400TR411P', 118086352: 'RTPA400TR411Q', 118090352: 'RTPA400TR411U', 118479352: 'RTPA400TR412I', 118486352: 'RTPA400TR412P', 118487352: 'RTPA400TR412Q', 118490352: 'RTPA400TR412U', 104620352: 'RTPB110TR411I', 104684352: 'RTPB110TR411P', 104674352: 'RTPB110TR411Q', 104623352: 'RTPB110TR411U', 108888352: 'RTPB110TR412I', 108917352: 'RTPB110TR412P', 108893352: 'RTPB110TR412Q', 108887352: 'RTPB110TR412U', 103677352: 'RTPB400TR411I', 103693352: 'RTPB400TR411P', 103682352: 'RTPB400TR411Q', 103696352: 'RTPB400TR411U', 104015352: 'RTPB400TR412I', 104016352: 'RTPB400TR412P', 104012352: 'RTPB400TR412Q', 104014352: 'RTPB400TR412U'}"
   ]
  },
  {
   "cell_type": "code",
   "execution_count": 83,
   "id": "09a081d8",
   "metadata": {},
   "outputs": [],
   "source": [
    "def read_meritve_csv(file_path: str, skip_lines: int) -> pd.DataFrame:\n",
    "    data = pd.read_csv(file_path, skiprows=skip_lines, delimiter=\";\", dtype={\"SYSTIME\": str})\n",
    "    data = data.iloc[:, :-1] # odstranimo zadnji stolpec\n",
    "    print(data.dtypes)\n",
    "    data.drop(columns=[\"TIMESTAMP\"], inplace=True)\n",
    "    # uredimo systime v datetime format\n",
    "    data[\"SYSTIME\"] = pd.to_datetime(data[\"SYSTIME\"], format=\"%Y%m%d%H%M%S%f\")\n",
    "    data[\"OBE_IRN\"] = data[\"OBE_IRN\"].map(headers)\n",
    "    data.dropna(axis=0, how=\"any\", inplace=True)\n",
    "    return data"
   ]
  },
  {
   "cell_type": "code",
   "execution_count": 84,
   "id": "c486d233",
   "metadata": {},
   "outputs": [
    {
     "name": "stdout",
     "output_type": "stream",
     "text": [
      "OBE_IRN           int64\n",
      "SYSTIME          object\n",
      "VALUE           float64\n",
      "QST_NO            int64\n",
      "TIMESTAMP       float64\n",
      "CALC_COUNTER      int64\n",
      "dtype: object\n"
     ]
    }
   ],
   "source": [
    "data = read_meritve_csv(\"data/davr15m_1.csv\", skip_lines=len(h1) + 1)"
   ]
  },
  {
   "cell_type": "code",
   "execution_count": 81,
   "id": "a551fe53",
   "metadata": {},
   "outputs": [
    {
     "name": "stdout",
     "output_type": "stream",
     "text": [
      "<class 'pandas.core.frame.DataFrame'>\n",
      "Int64Index: 171826 entries, 0 to 171829\n",
      "Data columns (total 5 columns):\n",
      " #   Column        Non-Null Count   Dtype         \n",
      "---  ------        --------------   -----         \n",
      " 0   OBE_IRN       171826 non-null  object        \n",
      " 1   SYSTIME       171826 non-null  datetime64[ns]\n",
      " 2   VALUE         171826 non-null  float64       \n",
      " 3   QST_NO        171826 non-null  int64         \n",
      " 4   CALC_COUNTER  171826 non-null  int64         \n",
      "dtypes: datetime64[ns](1), float64(1), int64(2), object(1)\n",
      "memory usage: 7.9+ MB\n"
     ]
    }
   ],
   "source": [
    "data.info()"
   ]
  },
  {
   "cell_type": "code",
   "execution_count": 82,
   "id": "f91519a2",
   "metadata": {},
   "outputs": [
    {
     "data": {
      "text/html": [
       "<div>\n",
       "<style scoped>\n",
       "    .dataframe tbody tr th:only-of-type {\n",
       "        vertical-align: middle;\n",
       "    }\n",
       "\n",
       "    .dataframe tbody tr th {\n",
       "        vertical-align: top;\n",
       "    }\n",
       "\n",
       "    .dataframe thead th {\n",
       "        text-align: right;\n",
       "    }\n",
       "</style>\n",
       "<table border=\"1\" class=\"dataframe\">\n",
       "  <thead>\n",
       "    <tr style=\"text-align: right;\">\n",
       "      <th></th>\n",
       "      <th>OBE_IRN</th>\n",
       "      <th>SYSTIME</th>\n",
       "      <th>VALUE</th>\n",
       "      <th>QST_NO</th>\n",
       "      <th>CALC_COUNTER</th>\n",
       "    </tr>\n",
       "  </thead>\n",
       "  <tbody>\n",
       "    <tr>\n",
       "      <th>0</th>\n",
       "      <td>RTPB400TR411I</td>\n",
       "      <td>2017-03-01</td>\n",
       "      <td>184.907222</td>\n",
       "      <td>1</td>\n",
       "      <td>15</td>\n",
       "    </tr>\n",
       "    <tr>\n",
       "      <th>1</th>\n",
       "      <td>RTPB400TR411Q</td>\n",
       "      <td>2017-03-01</td>\n",
       "      <td>20.284333</td>\n",
       "      <td>1</td>\n",
       "      <td>15</td>\n",
       "    </tr>\n",
       "    <tr>\n",
       "      <th>2</th>\n",
       "      <td>RTPB400TR411P</td>\n",
       "      <td>2017-03-01</td>\n",
       "      <td>130.111888</td>\n",
       "      <td>1</td>\n",
       "      <td>15</td>\n",
       "    </tr>\n",
       "    <tr>\n",
       "      <th>3</th>\n",
       "      <td>RTPB400TR411U</td>\n",
       "      <td>2017-03-01</td>\n",
       "      <td>411.623557</td>\n",
       "      <td>1</td>\n",
       "      <td>15</td>\n",
       "    </tr>\n",
       "    <tr>\n",
       "      <th>4</th>\n",
       "      <td>RTPB400TR412Q</td>\n",
       "      <td>2017-03-01</td>\n",
       "      <td>17.208333</td>\n",
       "      <td>1</td>\n",
       "      <td>15</td>\n",
       "    </tr>\n",
       "  </tbody>\n",
       "</table>\n",
       "</div>"
      ],
      "text/plain": [
       "         OBE_IRN    SYSTIME       VALUE  QST_NO  CALC_COUNTER\n",
       "0  RTPB400TR411I 2017-03-01  184.907222       1            15\n",
       "1  RTPB400TR411Q 2017-03-01   20.284333       1            15\n",
       "2  RTPB400TR411P 2017-03-01  130.111888       1            15\n",
       "3  RTPB400TR411U 2017-03-01  411.623557       1            15\n",
       "4  RTPB400TR412Q 2017-03-01   17.208333       1            15"
      ]
     },
     "execution_count": 82,
     "metadata": {},
     "output_type": "execute_result"
    }
   ],
   "source": [
    "data.head()"
   ]
  },
  {
   "cell_type": "markdown",
   "id": "3d1880a5",
   "metadata": {},
   "source": [
    "## Read excel"
   ]
  },
  {
   "cell_type": "code",
   "execution_count": 86,
   "id": "e3578af5",
   "metadata": {},
   "outputs": [
    {
     "name": "stdout",
     "output_type": "stream",
     "text": [
      "<pandas.io.excel._base.ExcelFile object at 0x000001E1BAC79B20>\n"
     ]
    }
   ],
   "source": [
    "file= \"data/davr15m_3.xls\"\n",
    "\n",
    "xls = pd.ExcelFile(file)\n",
    "\n",
    "print(xls)"
   ]
  },
  {
   "cell_type": "code",
   "execution_count": 87,
   "id": "fc4da0fd",
   "metadata": {},
   "outputs": [
    {
     "data": {
      "text/plain": [
       "['Obnovljeno_List1']"
      ]
     },
     "execution_count": 87,
     "metadata": {},
     "output_type": "execute_result"
    }
   ],
   "source": [
    "xls.sheet_names"
   ]
  },
  {
   "cell_type": "code",
   "execution_count": 88,
   "id": "5800c00f",
   "metadata": {},
   "outputs": [],
   "source": [
    "df = pd.read_excel(xls, 'Obnovljeno_List1')"
   ]
  },
  {
   "cell_type": "code",
   "execution_count": 89,
   "id": "6d17aa50",
   "metadata": {},
   "outputs": [
    {
     "data": {
      "text/html": [
       "<div>\n",
       "<style scoped>\n",
       "    .dataframe tbody tr th:only-of-type {\n",
       "        vertical-align: middle;\n",
       "    }\n",
       "\n",
       "    .dataframe tbody tr th {\n",
       "        vertical-align: top;\n",
       "    }\n",
       "\n",
       "    .dataframe thead th {\n",
       "        text-align: right;\n",
       "    }\n",
       "</style>\n",
       "<table border=\"1\" class=\"dataframe\">\n",
       "  <thead>\n",
       "    <tr style=\"text-align: right;\">\n",
       "      <th></th>\n",
       "      <th>Čas</th>\n",
       "      <th>Postaja</th>\n",
       "      <th>Podsistem</th>\n",
       "      <th>EXID</th>\n",
       "      <th>Vrednost</th>\n",
       "      <th>Kvaliteta</th>\n",
       "    </tr>\n",
       "  </thead>\n",
       "  <tbody>\n",
       "    <tr>\n",
       "      <th>0</th>\n",
       "      <td>13.10.2021 10:00:00</td>\n",
       "      <td>RTPC</td>\n",
       "      <td>TOBER</td>\n",
       "      <td>RTPC110POLJEDI</td>\n",
       "      <td>0</td>\n",
       "      <td>**</td>\n",
       "    </tr>\n",
       "    <tr>\n",
       "      <th>1</th>\n",
       "      <td>13.10.2021 11:00:00</td>\n",
       "      <td>RTPC</td>\n",
       "      <td>TOBER</td>\n",
       "      <td>RTPC110POLJEDI</td>\n",
       "      <td>0</td>\n",
       "      <td>**</td>\n",
       "    </tr>\n",
       "  </tbody>\n",
       "</table>\n",
       "</div>"
      ],
      "text/plain": [
       "                   Čas Postaja Podsistem            EXID  Vrednost Kvaliteta\n",
       "0  13.10.2021 10:00:00    RTPC     TOBER  RTPC110POLJEDI         0        **\n",
       "1  13.10.2021 11:00:00    RTPC     TOBER  RTPC110POLJEDI         0        **"
      ]
     },
     "execution_count": 89,
     "metadata": {},
     "output_type": "execute_result"
    }
   ],
   "source": [
    "df"
   ]
  },
  {
   "cell_type": "code",
   "execution_count": 92,
   "id": "cda86bdf",
   "metadata": {},
   "outputs": [],
   "source": [
    "df = pd.read_excel(\"data/davr15m_3.xls\", 'Obnovljeno_List1')\n",
    "df = pd.read_excel(\"data/davr15m_3.xls\", 'Obnovljeno_List2')"
   ]
  },
  {
   "cell_type": "code",
   "execution_count": 91,
   "id": "d6a71ef8",
   "metadata": {},
   "outputs": [
    {
     "data": {
      "text/html": [
       "<div>\n",
       "<style scoped>\n",
       "    .dataframe tbody tr th:only-of-type {\n",
       "        vertical-align: middle;\n",
       "    }\n",
       "\n",
       "    .dataframe tbody tr th {\n",
       "        vertical-align: top;\n",
       "    }\n",
       "\n",
       "    .dataframe thead th {\n",
       "        text-align: right;\n",
       "    }\n",
       "</style>\n",
       "<table border=\"1\" class=\"dataframe\">\n",
       "  <thead>\n",
       "    <tr style=\"text-align: right;\">\n",
       "      <th></th>\n",
       "      <th>Čas</th>\n",
       "      <th>Postaja</th>\n",
       "      <th>Podsistem</th>\n",
       "      <th>EXID</th>\n",
       "      <th>Vrednost</th>\n",
       "      <th>Kvaliteta</th>\n",
       "    </tr>\n",
       "  </thead>\n",
       "  <tbody>\n",
       "    <tr>\n",
       "      <th>0</th>\n",
       "      <td>13.10.2021 10:00:00</td>\n",
       "      <td>RTPC</td>\n",
       "      <td>TOBER</td>\n",
       "      <td>RTPC110POLJEDI</td>\n",
       "      <td>0</td>\n",
       "      <td>**</td>\n",
       "    </tr>\n",
       "    <tr>\n",
       "      <th>1</th>\n",
       "      <td>13.10.2021 11:00:00</td>\n",
       "      <td>RTPC</td>\n",
       "      <td>TOBER</td>\n",
       "      <td>RTPC110POLJEDI</td>\n",
       "      <td>0</td>\n",
       "      <td>**</td>\n",
       "    </tr>\n",
       "  </tbody>\n",
       "</table>\n",
       "</div>"
      ],
      "text/plain": [
       "                   Čas Postaja Podsistem            EXID  Vrednost Kvaliteta\n",
       "0  13.10.2021 10:00:00    RTPC     TOBER  RTPC110POLJEDI         0        **\n",
       "1  13.10.2021 11:00:00    RTPC     TOBER  RTPC110POLJEDI         0        **"
      ]
     },
     "execution_count": 91,
     "metadata": {},
     "output_type": "execute_result"
    }
   ],
   "source": [
    "df"
   ]
  },
  {
   "cell_type": "code",
   "execution_count": null,
   "id": "5012f732",
   "metadata": {},
   "outputs": [],
   "source": []
  }
 ],
 "metadata": {
  "kernelspec": {
   "display_name": "Python 3 (ipykernel)",
   "language": "python",
   "name": "python3"
  },
  "language_info": {
   "codemirror_mode": {
    "name": "ipython",
    "version": 3
   },
   "file_extension": ".py",
   "mimetype": "text/x-python",
   "name": "python",
   "nbconvert_exporter": "python",
   "pygments_lexer": "ipython3",
   "version": "3.9.2"
  }
 },
 "nbformat": 4,
 "nbformat_minor": 5
}
